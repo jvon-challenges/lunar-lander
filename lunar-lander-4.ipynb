{
 "cells": [
  {
   "cell_type": "markdown",
   "metadata": {},
   "source": [
    "# Lunar Lander: Simulation = Python + Math\n",
    "\n",
    "## 4. Final Project\n",
    "\n",
    "- Create an engine control function that causes the lander to seek an altitude of 100 meters.\n",
    "- The lander should then hover between 95 and 105 meters, and then land safely.\n",
    "- Maximize the time aloft where: $95 <= altitude <= 105$."
   ]
  },
  {
   "cell_type": "code",
   "execution_count": 1,
   "metadata": {},
   "outputs": [],
   "source": [
    "%matplotlib inline\n",
    "import matplotlib.pyplot as plt\n",
    "\n",
    "class LunarLander:                   \n",
    "    \n",
    "    g = -2.0\n",
    "\n",
    "    def __init__(self, mass = 120.0, fuel = 10.0, altitude = 0.0, velocity = 0.0):\n",
    "        self.mass = mass     \n",
    "        self.fuel = fuel\n",
    "        self.altitude = altitude\n",
    "        self.velocity = velocity\n",
    "        self.simulation_completed = False \n",
    "        self.altitudes = []\n",
    "        self.destroyed = False\n",
    "\n",
    "    def one_second(self, engine_control_function):          # allow for an engine control function\n",
    "        \n",
    "        if not engine_control_function == None:             # check if a control function is present...\n",
    "            self.fire_engine(engine_control_function(self)) # if so, pass it this lander, then fire the engine.\n",
    "        \n",
    "        self.velocity += LunarLander.g\n",
    "        self.altitude += self.velocity\n",
    "        self.altitudes.append(self.altitude)\n",
    "        \n",
    "        if (self.altitude <= 0.0):\n",
    "            self.altitude = 0.0\n",
    "            if abs(self.velocity) > 2.0:\n",
    "                self.destroyed |= True\n",
    "            self.simulation_completed = True;\n",
    "        return self.altitude\n",
    "    \n",
    "    def fire_engine(self, fuel):\n",
    "        if not self.destroyed:\n",
    "            fuel = min(fuel, self.fuel)\n",
    "            acceleration = fuel * 100.0\n",
    "            self.velocity += acceleration\n",
    "            self.fuel -= fuel\n",
    "\n",
    "    def go(self, control_function=None):\n",
    "        while not self.simulation_completed:\n",
    "            self.one_second(control_function)\n",
    "        plt.plot(self.altitudes)\n",
    "        print('Impact velocity =', self.velocity, 'm/s^2')\n",
    "        if self.destroyed:\n",
    "            print('Destroyed on impact!')"
   ]
  },
  {
   "cell_type": "code",
   "execution_count": null,
   "metadata": {},
   "outputs": [],
   "source": []
  }
 ],
 "metadata": {
  "kernelspec": {
   "display_name": "Python 3",
   "language": "python",
   "name": "python3"
  },
  "language_info": {
   "codemirror_mode": {
    "name": "ipython",
    "version": 3
   },
   "file_extension": ".py",
   "mimetype": "text/x-python",
   "name": "python",
   "nbconvert_exporter": "python",
   "pygments_lexer": "ipython3",
   "version": "3.6.4"
  }
 },
 "nbformat": 4,
 "nbformat_minor": 2
}
