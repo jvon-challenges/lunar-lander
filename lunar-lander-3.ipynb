{
 "cells": [
  {
   "cell_type": "markdown",
   "metadata": {},
   "source": [
    "# Lunar Lander: Simulation = Python + Math"
   ]
  },
  {
   "cell_type": "markdown",
   "metadata": {},
   "source": [
    "## 3. Build a simulation framework\n",
    "\n",
    "\n",
    "### 3.1 Running from start to finish\n",
    "All this development and testing would be easier if lander could run a simulation from **start** to **finish**, by itself:\n",
    "- *start* is whatever initial conditions exist (like altitude or velocity)\n",
    "- *finish* is when the lander hits the surface of the moon\n",
    "- a *go* function runs the simulation to completion\n",
    "- at the end, the *go* function prints and graph the results"
   ]
  },
  {
   "cell_type": "code",
   "execution_count": null,
   "metadata": {},
   "outputs": [],
   "source": [
    "%matplotlib inline\n",
    "import matplotlib.pyplot as plt\n",
    "\n",
    "class LunarLander:                   \n",
    "    \n",
    "    g = -2.0\n",
    "\n",
    "    def __init__(self, mass = 120.0, fuel = 10.0, altitude = 0.0, velocity = 0.0):\n",
    "        self.mass = mass     \n",
    "        self.fuel = fuel\n",
    "        self.altitude = altitude\n",
    "        self.velocity = velocity\n",
    "        self.simulation_completed = False       # this variable tracks whether a simulation is completed\n",
    "        self.altitudes = []                     # this list tracks altitude over time\n",
    "        self.destroyed = False\n",
    "\n",
    "    def one_second(self): \n",
    "        self.velocity += LunarLander.g\n",
    "        self.altitude += self.velocity\n",
    "        self.altitudes.append(self.altitude)    # each altitude is recorded in the list 'altitudes'\n",
    "        \n",
    "        if (self.altitude <= 0.0):\n",
    "            self.altitude = 0.0\n",
    "            if abs(self.velocity) > 2.0:\n",
    "                self.destroyed |= True\n",
    "            self.simulation_completed = True;   # the simulation is completed when the lander hits the surface\n",
    "        return self.altitude\n",
    "    \n",
    "    def fire_engine(self, fuel):\n",
    "        if not self.destroyed:\n",
    "            fuel = min(fuel, self.fuel)\n",
    "            acceleration = fuel * 100.0\n",
    "            self.velocity += acceleration\n",
    "            self.fuel -= fuel\n",
    "\n",
    "    def go(self):\n",
    "        while not self.simulation_completed:                  # while the simulation is not complete...\n",
    "            self.one_second()                                 # ...advance one second\n",
    "        plt.plot(self.altitudes)                              # plot altitude as a function of time\n",
    "        print('Impact velocity =', self.velocity, 'm/s^2')    # print final velocity\n",
    "        if self.destroyed:                                    # note whether lander is destroyed\n",
    "            print('Destroyed on impact!')\n",
    "        \n",
    "\n",
    "# here is a lander with an initial velocity of 100:      \n",
    "LunarLander(velocity=100.0).go()"
   ]
  },
  {
   "cell_type": "markdown",
   "metadata": {},
   "source": [
    "### 3.2 Inserting an engine control function\n",
    "\n",
    "In Python, it's easy to pass a function to another function... just use the first function's name as a parameter when calling the second function. Using that approach, you can build a simulation framework, then 'plug in' an external function to provide a control mechanism.\n",
    "\n",
    "That approach allows you to swap in various control mechanisms, and experiment with the results.\n",
    "\n",
    "Here is a tiny example of passing functions in Python:"
   ]
  },
  {
   "cell_type": "code",
   "execution_count": null,
   "metadata": {},
   "outputs": [],
   "source": [
    "%matplotlib inline\n",
    "import matplotlib.pyplot as plt\n",
    "\n",
    "\n",
    "# this function calls 'f' repeatedly, then adds the result to a graph\n",
    "\n",
    "def graph(f):\n",
    "    y = [f(x) for x in range(-10,10)]   # call 'f' for various values of x, regardless of what 'f' does...\n",
    "    plt.plot(y)                         # add the results to a graph\n",
    "\n",
    "    \n",
    "# here are some functions...\n",
    "\n",
    "def a(x):                               # some sort of parabola...\n",
    "    return x*x / 100\n",
    "\n",
    "def b(x):                               # something shaped like an 'S'\n",
    "    return 2 / (1 + 2**(-x)) - 1\n",
    "\n",
    "def c(x):\n",
    "    return (x**3 - 100 * x) / 1000      # something like an 'S' that fell over backwards\n",
    "\n",
    "\n",
    "# let's pass each function to draw_graph\n",
    "\n",
    "graph(a)\n",
    "graph(b)\n",
    "graph(c)\n",
    "plt.show()"
   ]
  },
  {
   "cell_type": "markdown",
   "metadata": {},
   "source": [
    "With that in mind, let's insert an **engine control function** into our lander:\n",
    "- the control function takes a LunarLander as its sole parameter\n",
    "- the control function returns the amount of fuel to burn for the current one-second time step\n",
    "- depending on the goal, different control functions are required\n",
    "- any given control funtion can be as complex or as simple as needed\n",
    "\n",
    "Here is a LunarLander that accepts an **engine control function**:"
   ]
  },
  {
   "cell_type": "code",
   "execution_count": null,
   "metadata": {},
   "outputs": [],
   "source": [
    "%matplotlib inline\n",
    "import matplotlib.pyplot as plt\n",
    "\n",
    "class LunarLander:                   \n",
    "    \n",
    "    g = -2.0\n",
    "\n",
    "    def __init__(self, mass = 120.0, fuel = 10.0, altitude = 0.0, velocity = 0.0):\n",
    "        self.mass = mass     \n",
    "        self.fuel = fuel\n",
    "        self.altitude = altitude\n",
    "        self.velocity = velocity\n",
    "        self.simulation_completed = False \n",
    "        self.altitudes = []\n",
    "        self.destroyed = False\n",
    "\n",
    "    def one_second(self, engine_control_function):          # allow for an engine control function\n",
    "        \n",
    "        if not engine_control_function == None:             # check if a control function is present...\n",
    "            self.fire_engine(engine_control_function(self)) # if so, pass it this lander, then fire the engine.\n",
    "        \n",
    "        self.velocity += LunarLander.g\n",
    "        self.altitude += self.velocity\n",
    "        self.altitudes.append(self.altitude)\n",
    "        \n",
    "        if (self.altitude <= 0.0):\n",
    "            self.altitude = 0.0\n",
    "            if abs(self.velocity) > 2.0:\n",
    "                self.destroyed |= True\n",
    "            self.simulation_completed = True;\n",
    "        return self.altitude\n",
    "    \n",
    "    def fire_engine(self, fuel):\n",
    "        if not self.destroyed:\n",
    "            fuel = min(fuel, self.fuel)\n",
    "            acceleration = fuel * 100.0\n",
    "            self.velocity += acceleration\n",
    "            self.fuel -= fuel\n",
    "\n",
    "    def go(self, control_function=None):\n",
    "        while not self.simulation_completed:\n",
    "            self.one_second(control_function)\n",
    "        plt.plot(self.altitudes)\n",
    "        print('Impact velocity =', self.velocity, 'm/s^2')\n",
    "        if self.destroyed:\n",
    "            print('Destroyed on impact!')"
   ]
  },
  {
   "cell_type": "markdown",
   "metadata": {},
   "source": [
    "### 3.2.1 Here is an example of an engine control function that does a poor job of seeking a specified altitude, then runs out of fuel and crashes:"
   ]
  },
  {
   "cell_type": "code",
   "execution_count": null,
   "metadata": {},
   "outputs": [],
   "source": [
    "# here is a (silly) engine control function\n",
    "def ecf(lander):\n",
    "    if lander.altitude < 100.0:\n",
    "        return lander.fuel * 0.01 - lander.velocity * 0.005\n",
    "    else:\n",
    "        return 0.0\n",
    "\n",
    "# run the simulation using 'ecf' as the engine control function     \n",
    "LunarLander().go(ecf)"
   ]
  },
  {
   "cell_type": "markdown",
   "metadata": {},
   "source": [
    "### 3.2.2 Here is an example of an engine control function that boosts the lander upward in a series of steps:"
   ]
  },
  {
   "cell_type": "code",
   "execution_count": null,
   "metadata": {},
   "outputs": [],
   "source": [
    "# here is a different engine control function\n",
    "\n",
    "def steps(lander):\n",
    "    if lander.altitude < 100.0:\n",
    "        return 2.0;\n",
    "    elif lander.velocity < 0.0:\n",
    "        return 1.0\n",
    "    else:\n",
    "        return 0.0\n",
    "\n",
    "# run the simulation using 'ecf' as the engine control function     \n",
    "LunarLander().go(steps)"
   ]
  },
  {
   "cell_type": "markdown",
   "metadata": {},
   "source": [
    "## Exercises\n",
    "\n"
   ]
  },
  {
   "cell_type": "markdown",
   "metadata": {},
   "source": [
    "Create an engine control function that causes a lander to attain the highest altitude that you can, while still landing safely. It's OK to use trial and error, or math, or both."
   ]
  },
  {
   "cell_type": "code",
   "execution_count": null,
   "metadata": {},
   "outputs": [],
   "source": [
    "# Your control function goes here...\n",
    "\n",
    "# Launch the simulation like thos:\n",
    "LunarLander().go(your_function_name)"
   ]
  },
  {
   "cell_type": "code",
   "execution_count": null,
   "metadata": {},
   "outputs": [],
   "source": []
  }
 ],
 "metadata": {
  "kernelspec": {
   "display_name": "Python 3",
   "language": "python",
   "name": "python3"
  },
  "language_info": {
   "codemirror_mode": {
    "name": "ipython",
    "version": 3
   },
   "file_extension": ".py",
   "mimetype": "text/x-python",
   "name": "python",
   "nbconvert_exporter": "python",
   "pygments_lexer": "ipython3",
   "version": "3.6.4"
  }
 },
 "nbformat": 4,
 "nbformat_minor": 2
}
