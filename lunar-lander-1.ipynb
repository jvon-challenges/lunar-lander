{
 "cells": [
  {
   "cell_type": "markdown",
   "metadata": {},
   "source": [
    "# Lunar Lander: Simulation = Python + Math"
   ]
  },
  {
   "attachments": {
    "image.png": {
     "image/png": "[encoded data removed]"
    }
   },
   "cell_type": "markdown",
   "metadata": {},
   "source": [
    "## Landing on the moon\n",
    "\n",
    "Let's build a lunar lander that has limited fuel, and try to land on the moon without crashing.\n",
    "\n",
    "Here is a sample plot of a lander's altitude over time... this flight didn't go so well:\n",
    "\n",
    "![image.png](attachment:image.png)"
   ]
  },
  {
   "cell_type": "markdown",
   "metadata": {},
   "source": [
    "## 1. Create a Lunar Lander class in Python\n",
    "\n",
    "For starters, define a **python class** for a lunar lander that includes **instance variables** for mass and fuel:"
   ]
  },
  {
   "cell_type": "code",
   "execution_count": null,
   "metadata": {},
   "outputs": [],
   "source": [
    "class LunarLander:                   # the class name is LunarLander\n",
    "    def __init__(self, mass, fuel):  # __init__ gets called whenever we create a new instance of a class\n",
    "        self.mass = mass             # ...the 'self' keyword means 'this instance of this class'\n",
    "        self.fuel = fuel             # ...python requires 'self' for instance variables"
   ]
  },
  {
   "cell_type": "markdown",
   "metadata": {},
   "source": [
    "So far, a lunar lander doesn't do anything, but we can make one if we want to:"
   ]
  },
  {
   "cell_type": "code",
   "execution_count": null,
   "metadata": {},
   "outputs": [],
   "source": [
    "# here is a useless lunar lander. it does nothing.\n",
    "\n",
    "useless_lander = LunarLander(120,10) # creating an instance of LunarLander requires mass & fuel\n",
    "print('mass = ',useless_lander.mass, 'fuel = ', useless_lander.fuel)"
   ]
  },
  {
   "cell_type": "markdown",
   "metadata": {},
   "source": [
    "Let's add **instance variables** to represent the lander's velocity and altitude, and a **class variable** for acceleration due to gravity:"
   ]
  },
  {
   "cell_type": "code",
   "execution_count": null,
   "metadata": {},
   "outputs": [],
   "source": [
    "class LunarLander:                   \n",
    "    \n",
    "    g = -2.0                         # the class variable 'g' is shared among all instances\n",
    "                                     # note that 'g' is negative... gravity is a vector pointing downward\n",
    "    \n",
    "    def __init__(self, mass, fuel):\n",
    "        self.mass = mass             # in order to make an instance of LunarLander, specify a mass\n",
    "        self.fuel = fuel             # in order to make an instance of LunarLander, specify an amount of fuel\n",
    "        self.altitude = 0.0          # altitude is specific to an instance, and has initial value of zero \n",
    "        self.velocity = 0.0          # velocity is specific to an instance, and has initial value of zero "
   ]
  },
  {
   "cell_type": "markdown",
   "metadata": {},
   "source": [
    "Here is an instance of a new & improved lunar lander:"
   ]
  },
  {
   "cell_type": "code",
   "execution_count": null,
   "metadata": {},
   "outputs": [],
   "source": [
    "# this lunar lander shows the difference between class and instance variables.\n",
    "\n",
    "new_lander = LunarLander(150,20)\n",
    "print ('mass of THIS lander is:', new_lander.mass)\n",
    "print ('fuel of THIS lander is', new_lander.fuel)\n",
    "print ('altitude of THIS lander is', new_lander.altitude)\n",
    "print ('velocity of THIS lander is', new_lander.velocity)\n",
    "print ('gravity for ALL landers is:', LunarLander.g) # class variable... shared among all instances"
   ]
  },
  {
   "cell_type": "markdown",
   "metadata": {},
   "source": [
    "Any function can provide **default values**, which are used whenever a parameter is not specified:"
   ]
  },
  {
   "cell_type": "code",
   "execution_count": null,
   "metadata": {},
   "outputs": [],
   "source": [
    "class LunarLander:                   \n",
    "    \n",
    "    g = -2.0\n",
    "\n",
    "    # default values will be used whenever a value is not specified...\n",
    "    def __init__(self, mass = 120.0, fuel = 10.0, altitude = 0.0, velocity = 0.0):\n",
    "        self.mass = mass     \n",
    "        self.fuel = fuel\n",
    "        self.altitude = altitude\n",
    "        self.velocity = velocity"
   ]
  },
  {
   "cell_type": "markdown",
   "metadata": {},
   "source": [
    "Now we can make lots of different landers:"
   ]
  },
  {
   "cell_type": "code",
   "execution_count": null,
   "metadata": {},
   "outputs": [],
   "source": [
    "heavy_lander = LunarLander(mass=200)          # specifies only mass; other parameters equal default values\n",
    "high_lander = LunarLander(altitude=1000)      # specifies only altitude...\n",
    "goofy_lander = LunarLander(1,2,3,4)           # unlabeled values are applied in order...\n",
    "test_lander = LunarLander(1,2,velocity=999)   # you can mix ordered & labeled values\n",
    "\n",
    "print ('heavy', heavy_lander.mass, heavy_lander.fuel, heavy_lander.altitude, heavy_lander.velocity)\n",
    "print ('high', high_lander.mass, high_lander.fuel, high_lander.altitude, high_lander.velocity)\n",
    "print ('goofy', goofy_lander.mass, goofy_lander.fuel, goofy_lander.altitude, goofy_lander.velocity)\n",
    "print ('test', test_lander.mass, test_lander.fuel, test_lander.altitude, test_lander.velocity)\n",
    "print ('gravity is still =', LunarLander.g)"
   ]
  },
  {
   "cell_type": "markdown",
   "metadata": {},
   "source": [
    "For our simulation, add a function called **one_second** that represents one tick of the simulation time clock (in this case, one second); every time the clock ticks one second, update the velocity and altitude:"
   ]
  },
  {
   "cell_type": "code",
   "execution_count": null,
   "metadata": {},
   "outputs": [],
   "source": [
    "class LunarLander:                   \n",
    "    \n",
    "    g = -2.0\n",
    "\n",
    "    def __init__(self, mass = 120.0, fuel = 10.0, altitude = 0.0, velocity = 0.0):\n",
    "        self.mass = mass     \n",
    "        self.fuel = fuel\n",
    "        self.altitude = altitude\n",
    "        self.velocity = velocity\n",
    "        self.destroyed = False\n",
    "        \n",
    "    # advances the simulation one second in time (one 'tick of the clock')\n",
    "    def one_second(self):\n",
    "        self.velocity += LunarLander.g     # increase (downward) velocity by the acceleration of gravity;\n",
    "                                           # notice that 'g' belongs to the class LunarLander while 'velocity'\n",
    "                                           # belongs to each instance, so it's LunarLander.g and self.velocity\n",
    "                \n",
    "        self.altitude += self.velocity     # change altitude\n",
    "        if (self.altitude <= 0.0):\n",
    "            self.altitude = 0.0\n",
    "            if abs(self.velocity) > 2.0:   # if landing velocity exceeds 2 m/s, you crashed!\n",
    "                self.destroyed = True\n",
    "            self.velocity = 0.0"
   ]
  },
  {
   "cell_type": "markdown",
   "metadata": {},
   "source": [
    "Let's destroy a perfectly good lander by creating it at an altitude of 1,000 meters, even though it doesn't have any engines yet:"
   ]
  },
  {
   "cell_type": "code",
   "execution_count": null,
   "metadata": {},
   "outputs": [],
   "source": [
    "my_lander = LunarLander(altitude=1000)\n",
    "while not my_lander.destroyed:                                          # run while the lander is not destroyed\n",
    "    print(my_lander.altitude, my_lander.velocity, my_lander.destroyed)  # print an update\n",
    "    my_lander.one_second()                                              # advance time by 1 second\n",
    "print(my_lander.altitude, my_lander.velocity, my_lander.destroyed)      # print final (unfortunate) status"
   ]
  },
  {
   "cell_type": "markdown",
   "metadata": {},
   "source": [
    "It's not so easy to look at a table of number and understand what's going on... let's change one_second() to return the altitude after each one-second time step, so we can look at a graph instead.\n",
    "\n",
    "Here is the code to create the return value:"
   ]
  },
  {
   "cell_type": "code",
   "execution_count": null,
   "metadata": {},
   "outputs": [],
   "source": [
    "class LunarLander:                   \n",
    "    \n",
    "    g = 2.0\n",
    "\n",
    "    def __init__(self, mass = 120.0, fuel = 10.0, altitude = 0.0, velocity = 0.0):\n",
    "        self.mass = mass     \n",
    "        self.fuel = fuel\n",
    "        self.altitude = altitude\n",
    "        self.velocity = velocity\n",
    "        self.destroyed = False\n",
    "        \n",
    "    def one_second(self):\n",
    "        self.velocity -= LunarLander.g\n",
    "        self.altitude += self.velocity\n",
    "        if (self.altitude <= 0.0):\n",
    "            self.altitude = 0.0\n",
    "            if abs(self.velocity) > 2.0:\n",
    "                self.destroyed = True\n",
    "            self.velocity = 0.0\n",
    "        return self.altitude               # return the value for altitude each time one_second() is called\n",
    "    \n",
    "my_lander = LunarLander(altitude=1000)\n",
    "my_lander.one_second()                     # when one_second() gets called, the resulting altitude is returned"
   ]
  },
  {
   "cell_type": "markdown",
   "metadata": {},
   "source": [
    "Python makes <u>extensive</u> use of **lists**. To plot the lander's altitude, we will need to capture the values in a list.\n",
    "\n",
    "Here are some examples of lists in Python, including a **list comprehension** (a one-line way to make a list, using any specified operation or function):"
   ]
  },
  {
   "cell_type": "code",
   "execution_count": null,
   "metadata": {},
   "outputs": [],
   "source": [
    "# declare a list\n",
    "my_list = [1,2,3,4,5]\n",
    "print('my_list', my_list)\n",
    "\n",
    "# slice the list into pieces\n",
    "print('my_list slices', my_list[1:3], my_list[:4], my_list[3:])\n",
    "\n",
    "# make a list using a Python list comprehension (a one-line list-building loop)\n",
    "py_list = [x**2 for x in range(0,11)]\n",
    "print('py_list', py_list)"
   ]
  },
  {
   "cell_type": "markdown",
   "metadata": {},
   "source": [
    "A **Python list comprehension** can access any function. Here is how you can capture the return values from one_second() in a list (those values represent the lander's altitude):"
   ]
  },
  {
   "cell_type": "code",
   "execution_count": null,
   "metadata": {},
   "outputs": [],
   "source": [
    "my_lander = LunarLander(altitude=1000)\n",
    "altitude = [my_lander.one_second() for t in range(0,40)]\n",
    "altitude"
   ]
  },
  {
   "cell_type": "markdown",
   "metadata": {},
   "source": [
    "And once the results are captured in a list, here is how you can plot the results in a graph:"
   ]
  },
  {
   "cell_type": "code",
   "execution_count": null,
   "metadata": {},
   "outputs": [],
   "source": [
    "%matplotlib inline\n",
    "import matplotlib.pyplot as plt\n",
    "plt.plot(altitude,'o')"
   ]
  },
  {
   "cell_type": "markdown",
   "metadata": {},
   "source": [
    "## Exercises\n",
    "\n",
    "Recreate the graph on a planet where the acceleration due to gravity is a function of time. Specifically: gravity starts at +2.0 (ie, upward, away from the planet's surface), and is reduced by 0.1 every second. If the lander starts at 1,000 meters, what is its (a) approximate maximum altitude and (b) time until impact?\n",
    "\n",
    "*Important safety tip: since LunarLander.g is a **class variable**, any changes will be persistent; you may need to either (a) set the initial value of g when you run the simulation or (b) re-load the LunarLander class before each simulation.*"
   ]
  },
  {
   "cell_type": "code",
   "execution_count": null,
   "metadata": {},
   "outputs": [],
   "source": [
    "%matplotlib inline\n",
    "import matplotlib.pyplot as plt\n",
    "\n",
    "\n",
    "# here is a starting point... this is the lunar lander, with gravity reversed:\n",
    "\n",
    "class LunarLander:                   \n",
    "    \n",
    "    g = 2.0     # hey! I am falling up!\n",
    "\n",
    "    def __init__(self, mass = 120.0, fuel = 10.0, altitude = 0.0, velocity = 0.0):\n",
    "        self.mass = mass     \n",
    "        self.fuel = fuel\n",
    "        self.altitude = altitude\n",
    "        self.velocity = velocity\n",
    "        self.destroyed = False\n",
    "        \n",
    "    ############################################################\n",
    "    #                                                          #\n",
    "    #  CODE CHANGE NEEDED...                                   #\n",
    "    #                                                          #\n",
    "    #  some during each second, gravity changes by -0.1 m/s^2  #\n",
    "    #                                                          #\n",
    "    def one_second(self):\n",
    "        self.velocity -= LunarLander.g\n",
    "        self.altitude += self.velocity\n",
    "        if (self.altitude <= 0.0):\n",
    "            self.altitude = 0.0\n",
    "            if abs(self.velocity) > 2.0:\n",
    "                self.destroyed = True\n",
    "            self.velocity = 0.0\n",
    "        return self.altitude\n",
    "    #                                                          #\n",
    "    #                                                          #\n",
    "    ############################################################\n",
    "    \n",
    "################################################################\n",
    "#                                                              #\n",
    "# ...and down here, run the simulation and graph the results   #\n",
    "#                                                              #\n",
    "################################################################"
   ]
  },
  {
   "cell_type": "code",
   "execution_count": null,
   "metadata": {},
   "outputs": [],
   "source": []
  }
 ],
 "metadata": {
  "kernelspec": {
   "display_name": "Python 3",
   "language": "python",
   "name": "python3"
  },
  "language_info": {
   "codemirror_mode": {
    "name": "ipython",
    "version": 3
   },
   "file_extension": ".py",
   "mimetype": "text/x-python",
   "name": "python",
   "nbconvert_exporter": "python",
   "pygments_lexer": "ipython3",
   "version": "3.6.4"
  }
 },
 "nbformat": 4,
 "nbformat_minor": 2
}
