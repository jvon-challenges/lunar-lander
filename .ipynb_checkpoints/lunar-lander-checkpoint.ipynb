{
 "cells": [
  {
   "cell_type": "markdown",
   "metadata": {},
   "source": [
    "# Lunar Lander: Python + Math = Simulation"
   ]
  },
  {
   "cell_type": "markdown",
   "metadata": {},
   "source": [
    "## 1. Constructing the lander\n",
    "\n",
    "Let's build a lunar lander that has limited fuel, and try to land on the moon with crashing."
   ]
  },
  {
   "cell_type": "markdown",
   "metadata": {},
   "source": [
    "For starters, define a **python class** for a lunar lander that includes **instance variables** for mass and fuel:"
   ]
  },
  {
   "cell_type": "code",
   "execution_count": null,
   "metadata": {},
   "outputs": [],
   "source": [
    "class LunarLander:                   # the class name is LunarLander\n",
    "    def __init__(self, mass, fuel):  # __init__ gets called whenever we create a new instance of a class\n",
    "        self.mass = mass             # ...the 'self' keyword means 'this instance of this class'\n",
    "        self.fuel = fuel             # ...python requires 'self' for instance variables"
   ]
  },
  {
   "cell_type": "markdown",
   "metadata": {},
   "source": [
    "So far, a lunar lander doesn't do anything, but we can make one if we want to:"
   ]
  },
  {
   "cell_type": "code",
   "execution_count": null,
   "metadata": {},
   "outputs": [],
   "source": [
    "# here is a useless lunar lander. it does nothing.\n",
    "\n",
    "useless_lander = LunarLander(120,10) # creating an instance of LunarLander requires mass & fuel\n",
    "print(useless_lander.mass, useless_lander.fuel)"
   ]
  },
  {
   "cell_type": "markdown",
   "metadata": {},
   "source": [
    "Let's add **instance variables** to represent the lander's velocity and altitude, and a **class variable** for acceleration due to gravity:"
   ]
  },
  {
   "cell_type": "code",
   "execution_count": null,
   "metadata": {},
   "outputs": [],
   "source": [
    "class LunarLander:                   \n",
    "    \n",
    "    g = 2.0                          # the class variable 'g' is shared among all instances\n",
    "    \n",
    "    def __init__(self, mass, fuel):\n",
    "        self.mass = mass          \n",
    "        self.fuel = fuel     \n",
    "        self.altitude = 0.0          # altitude is specific to an instance, and has an initial value \n",
    "        self.velocity = 0.0          # ...and so does velocity"
   ]
  },
  {
   "cell_type": "markdown",
   "metadata": {},
   "source": [
    "Here is an instance of a new & improved lunar lander:"
   ]
  },
  {
   "cell_type": "code",
   "execution_count": null,
   "metadata": {},
   "outputs": [],
   "source": [
    "# this lunar lander shows the difference between class and instance variables.\n",
    "\n",
    "new_lander = LunarLander(150,20)\n",
    "print (new_lander.mass, new_lander.fuel, new_lander.altitude, new_lander.velocity) # instance variables\n",
    "print (LunarLander.g) # class variable... shared among all instances"
   ]
  },
  {
   "cell_type": "markdown",
   "metadata": {},
   "source": [
    "Any function can provide **default values**, which are used whenever a parameter is not specified:"
   ]
  },
  {
   "cell_type": "code",
   "execution_count": null,
   "metadata": {},
   "outputs": [],
   "source": [
    "class LunarLander:                   \n",
    "    \n",
    "    g = 2.0\n",
    "\n",
    "    # default values will be used whenever a value is not specified...\n",
    "    def __init__(self, mass = 120.0, fuel = 10.0, altitude = 0.0, velocity = 0.0):\n",
    "        self.mass = mass     \n",
    "        self.fuel = fuel\n",
    "        self.altitude = altitude\n",
    "        self.velocity = velocity"
   ]
  },
  {
   "cell_type": "markdown",
   "metadata": {},
   "source": [
    "Now we can make lots of landers:"
   ]
  },
  {
   "cell_type": "code",
   "execution_count": null,
   "metadata": {},
   "outputs": [],
   "source": [
    "heavy_lander = LunarLander(mass=200)          # specifies only mass; other parameters equal default values\n",
    "high_lander = LunarLander(altitude=1000)      # specifies only altitude...\n",
    "goofy_lander = LunarLander(1,2,3,4)           # unlabeled values are applied in order...\n",
    "test_lander = LunarLander(1,2,velocity=999)   # you can mix ordered & labeled values\n",
    "\n",
    "print ('heavy', heavy_lander.mass, heavy_lander.fuel, heavy_lander.altitude, heavy_lander.velocity)\n",
    "print ('high', high_lander.mass, high_lander.fuel, high_lander.altitude, high_lander.velocity)\n",
    "print ('goofy', goofy_lander.mass, goofy_lander.fuel, goofy_lander.altitude, goofy_lander.velocity)\n",
    "print ('test', test_lander.mass, test_lander.fuel, test_lander.altitude, test_lander.velocity)"
   ]
  },
  {
   "cell_type": "markdown",
   "metadata": {},
   "source": [
    "For our simulation, add a function called **tick** that represents one tick of the time clock (in this case, one second); every time the clock ticks, update the velocity and altitude:"
   ]
  },
  {
   "cell_type": "code",
   "execution_count": null,
   "metadata": {},
   "outputs": [],
   "source": [
    "class LunarLander:                   \n",
    "    \n",
    "    g = 2.0\n",
    "\n",
    "    def __init__(self, mass = 120.0, fuel = 10.0, altitude = 0.0, velocity = 0.0):\n",
    "        self.mass = mass     \n",
    "        self.fuel = fuel\n",
    "        self.altitude = altitude\n",
    "        self.velocity = velocity\n",
    "        self.destroyed = False\n",
    "        \n",
    "    # advances the simulation one second in time (one 'tick of the clock')\n",
    "    def tick(self):\n",
    "        self.velocity -= LunarLander.g     # increase (downward) velocity by the acceleration of gravity;\n",
    "                                           # notice that 'g' belongs to the class LunarLander while 'velocity'\n",
    "                                           # belongs to each instance, so it's LunarLander.g and self.velocity\n",
    "                \n",
    "        self.altitude += self.velocity     # change altitude\n",
    "        if (self.altitude < 0.0):\n",
    "            self.altitude = 0.0\n",
    "            if abs(self.velocity) > 2.0:   # if landing velocity exceeds 2 m/s, you crashed!\n",
    "                self.destroyed = True\n",
    "            self.velocity = 0.0"
   ]
  },
  {
   "cell_type": "markdown",
   "metadata": {},
   "source": [
    "Let's destroy a perfectly good lander by creating it at an altitude of 1,000 meters, even though it doesn't have any engines yet:"
   ]
  },
  {
   "cell_type": "code",
   "execution_count": null,
   "metadata": {},
   "outputs": [],
   "source": [
    "my_lander = LunarLander(altitude=1000)\n",
    "while not my_lander.destroyed:                                          # run while the lander is not destroyed\n",
    "    print(my_lander.altitude, my_lander.velocity, my_lander.destroyed)  # print an update\n",
    "    my_lander.tick()                                                    # advance time by 1 second\n",
    "print(my_lander.altitude, my_lander.velocity, my_lander.destroyed)      # print final (unfortunate) status"
   ]
  },
  {
   "cell_type": "markdown",
   "metadata": {},
   "source": [
    "It's not so easy to look at a table of number and understand what's going on... let's change tick() to return the altitude after each one-second time step, so we can look at a graph instead.\n",
    "\n",
    "Here is the code to create the return value:"
   ]
  },
  {
   "cell_type": "code",
   "execution_count": null,
   "metadata": {},
   "outputs": [],
   "source": [
    "class LunarLander:                   \n",
    "    \n",
    "    g = 2.0\n",
    "\n",
    "    def __init__(self, mass = 120.0, fuel = 10.0, altitude = 0.0, velocity = 0.0):\n",
    "        self.mass = mass     \n",
    "        self.fuel = fuel\n",
    "        self.altitude = altitude\n",
    "        self.velocity = velocity\n",
    "        self.destroyed = False\n",
    "        \n",
    "    def tick(self):\n",
    "        self.velocity -= LunarLander.g\n",
    "        self.altitude += self.velocity\n",
    "        if (self.altitude < 0.0):\n",
    "            self.altitude = 0.0\n",
    "            if abs(self.velocity) > 2.0:\n",
    "                self.destroyed = True\n",
    "            self.velocity = 0.0\n",
    "        return self.altitude               # return the value for altitude each time tick() is called\n",
    "    \n",
    "my_lander = LunarLander(altitude=1000)\n",
    "my_lander.tick()                           # when tick() gets called, the resulting altitude is returned"
   ]
  },
  {
   "cell_type": "markdown",
   "metadata": {},
   "source": [
    "Here is how you can capture the return values in a list:"
   ]
  },
  {
   "cell_type": "code",
   "execution_count": null,
   "metadata": {},
   "outputs": [],
   "source": [
    "my_lander = LunarLander(altitude=1000)\n",
    "altitude = [my_lander.tick() for t in range(0,30)]\n",
    "altitude"
   ]
  },
  {
   "cell_type": "markdown",
   "metadata": {},
   "source": [
    "And here is how you can plot the results in a graph:"
   ]
  },
  {
   "cell_type": "code",
   "execution_count": null,
   "metadata": {},
   "outputs": [],
   "source": [
    "%matplotlib inline\n",
    "import matplotlib.pyplot as plt\n",
    "plt.plot(altitude,'o')"
   ]
  }
 ],
 "metadata": {
  "kernelspec": {
   "display_name": "Python 3",
   "language": "python",
   "name": "python3"
  },
  "language_info": {
   "codemirror_mode": {
    "name": "ipython",
    "version": 3
   },
   "file_extension": ".py",
   "mimetype": "text/x-python",
   "name": "python",
   "nbconvert_exporter": "python",
   "pygments_lexer": "ipython3",
   "version": "3.6.4"
  }
 },
 "nbformat": 4,
 "nbformat_minor": 2
}
