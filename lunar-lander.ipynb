{
 "cells": [
  {
   "cell_type": "markdown",
   "metadata": {},
   "source": [
    "# Lunar Lander: Python + Math = Simulation"
   ]
  },
  {
   "attachments": {
    "image.png": {
     "image/png": "[encoded data removed]"
    }
   },
   "cell_type": "markdown",
   "metadata": {},
   "source": [
    "## 1. Constructing the lander\n",
    "\n",
    "Let's build a lunar lander that has limited fuel, and try to land on the moon without crashing.\n",
    "\n",
    "Here is a sample plot of a lander's altitude over time... this flight didn't go so well:\n",
    "\n",
    "![image.png](attachment:image.png)"
   ]
  },
  {
   "cell_type": "markdown",
   "metadata": {},
   "source": [
    "For starters, define a **python class** for a lunar lander that includes **instance variables** for mass and fuel:"
   ]
  },
  {
   "cell_type": "code",
   "execution_count": 1,
   "metadata": {},
   "outputs": [],
   "source": [
    "class LunarLander:                   # the class name is LunarLander\n",
    "    def __init__(self, mass, fuel):  # __init__ gets called whenever we create a new instance of a class\n",
    "        self.mass = mass             # ...the 'self' keyword means 'this instance of this class'\n",
    "        self.fuel = fuel             # ...python requires 'self' for instance variables"
   ]
  },
  {
   "cell_type": "markdown",
   "metadata": {},
   "source": [
    "So far, a lunar lander doesn't do anything, but we can make one if we want to:"
   ]
  },
  {
   "cell_type": "code",
   "execution_count": 2,
   "metadata": {},
   "outputs": [
    {
     "name": "stdout",
     "output_type": "stream",
     "text": [
      "120 10\n"
     ]
    }
   ],
   "source": [
    "# here is a useless lunar lander. it does nothing.\n",
    "\n",
    "useless_lander = LunarLander(120,10) # creating an instance of LunarLander requires mass & fuel\n",
    "print(useless_lander.mass, useless_lander.fuel)"
   ]
  },
  {
   "cell_type": "markdown",
   "metadata": {},
   "source": [
    "Let's add **instance variables** to represent the lander's velocity and altitude, and a **class variable** for acceleration due to gravity:"
   ]
  },
  {
   "cell_type": "code",
   "execution_count": 3,
   "metadata": {},
   "outputs": [],
   "source": [
    "class LunarLander:                   \n",
    "    \n",
    "    g = 2.0                          # the class variable 'g' is shared among all instances\n",
    "    \n",
    "    def __init__(self, mass, fuel):\n",
    "        self.mass = mass          \n",
    "        self.fuel = fuel     \n",
    "        self.altitude = 0.0          # altitude is specific to an instance, and has an initial value \n",
    "        self.velocity = 0.0          # ...and so does velocity"
   ]
  },
  {
   "cell_type": "markdown",
   "metadata": {},
   "source": [
    "Here is an instance of a new & improved lunar lander:"
   ]
  },
  {
   "cell_type": "code",
   "execution_count": 4,
   "metadata": {},
   "outputs": [
    {
     "name": "stdout",
     "output_type": "stream",
     "text": [
      "150 20 0.0 0.0\n",
      "2.0\n"
     ]
    }
   ],
   "source": [
    "# this lunar lander shows the difference between class and instance variables.\n",
    "\n",
    "new_lander = LunarLander(150,20)\n",
    "print (new_lander.mass, new_lander.fuel, new_lander.altitude, new_lander.velocity) # instance variables\n",
    "print (LunarLander.g) # class variable... shared among all instances"
   ]
  },
  {
   "cell_type": "markdown",
   "metadata": {},
   "source": [
    "Any function can provide **default values**, which are used whenever a parameter is not specified:"
   ]
  },
  {
   "cell_type": "code",
   "execution_count": 5,
   "metadata": {},
   "outputs": [],
   "source": [
    "class LunarLander:                   \n",
    "    \n",
    "    g = 2.0\n",
    "\n",
    "    # default values will be used whenever a value is not specified...\n",
    "    def __init__(self, mass = 120.0, fuel = 10.0, altitude = 0.0, velocity = 0.0):\n",
    "        self.mass = mass     \n",
    "        self.fuel = fuel\n",
    "        self.altitude = altitude\n",
    "        self.velocity = velocity"
   ]
  },
  {
   "cell_type": "markdown",
   "metadata": {},
   "source": [
    "Now we can make lots of landers:"
   ]
  },
  {
   "cell_type": "code",
   "execution_count": 6,
   "metadata": {},
   "outputs": [
    {
     "name": "stdout",
     "output_type": "stream",
     "text": [
      "heavy 200 10.0 0.0 0.0\n",
      "high 120.0 10.0 1000 0.0\n",
      "goofy 1 2 3 4\n",
      "test 1 2 0.0 999\n"
     ]
    }
   ],
   "source": [
    "heavy_lander = LunarLander(mass=200)          # specifies only mass; other parameters equal default values\n",
    "high_lander = LunarLander(altitude=1000)      # specifies only altitude...\n",
    "goofy_lander = LunarLander(1,2,3,4)           # unlabeled values are applied in order...\n",
    "test_lander = LunarLander(1,2,velocity=999)   # you can mix ordered & labeled values\n",
    "\n",
    "print ('heavy', heavy_lander.mass, heavy_lander.fuel, heavy_lander.altitude, heavy_lander.velocity)\n",
    "print ('high', high_lander.mass, high_lander.fuel, high_lander.altitude, high_lander.velocity)\n",
    "print ('goofy', goofy_lander.mass, goofy_lander.fuel, goofy_lander.altitude, goofy_lander.velocity)\n",
    "print ('test', test_lander.mass, test_lander.fuel, test_lander.altitude, test_lander.velocity)"
   ]
  },
  {
   "cell_type": "markdown",
   "metadata": {},
   "source": [
    "For our simulation, add a function called **tick** that represents one tick of the time clock (in this case, one second); every time the clock ticks, update the velocity and altitude:"
   ]
  },
  {
   "cell_type": "code",
   "execution_count": 7,
   "metadata": {},
   "outputs": [],
   "source": [
    "class LunarLander:                   \n",
    "    \n",
    "    g = 2.0\n",
    "\n",
    "    def __init__(self, mass = 120.0, fuel = 10.0, altitude = 0.0, velocity = 0.0):\n",
    "        self.mass = mass     \n",
    "        self.fuel = fuel\n",
    "        self.altitude = altitude\n",
    "        self.velocity = velocity\n",
    "        self.destroyed = False\n",
    "        \n",
    "    # advances the simulation one second in time (one 'tick of the clock')\n",
    "    def tick(self):\n",
    "        self.velocity -= LunarLander.g     # increase (downward) velocity by the acceleration of gravity;\n",
    "                                           # notice that 'g' belongs to the class LunarLander while 'velocity'\n",
    "                                           # belongs to each instance, so it's LunarLander.g and self.velocity\n",
    "                \n",
    "        self.altitude += self.velocity     # change altitude\n",
    "        if (self.altitude < 0.0):\n",
    "            self.altitude = 0.0\n",
    "            if abs(self.velocity) > 2.0:   # if landing velocity exceeds 2 m/s, you crashed!\n",
    "                self.destroyed = True\n",
    "            self.velocity = 0.0"
   ]
  },
  {
   "cell_type": "markdown",
   "metadata": {},
   "source": [
    "Let's destroy a perfectly good lander by creating it at an altitude of 1,000 meters, even though it doesn't have any engines yet:"
   ]
  },
  {
   "cell_type": "code",
   "execution_count": 8,
   "metadata": {},
   "outputs": [
    {
     "name": "stdout",
     "output_type": "stream",
     "text": [
      "1000 0.0 False\n",
      "998.0 -2.0 False\n",
      "994.0 -4.0 False\n",
      "988.0 -6.0 False\n",
      "980.0 -8.0 False\n",
      "970.0 -10.0 False\n",
      "958.0 -12.0 False\n",
      "944.0 -14.0 False\n",
      "928.0 -16.0 False\n",
      "910.0 -18.0 False\n",
      "890.0 -20.0 False\n",
      "868.0 -22.0 False\n",
      "844.0 -24.0 False\n",
      "818.0 -26.0 False\n",
      "790.0 -28.0 False\n",
      "760.0 -30.0 False\n",
      "728.0 -32.0 False\n",
      "694.0 -34.0 False\n",
      "658.0 -36.0 False\n",
      "620.0 -38.0 False\n",
      "580.0 -40.0 False\n",
      "538.0 -42.0 False\n",
      "494.0 -44.0 False\n",
      "448.0 -46.0 False\n",
      "400.0 -48.0 False\n",
      "350.0 -50.0 False\n",
      "298.0 -52.0 False\n",
      "244.0 -54.0 False\n",
      "188.0 -56.0 False\n",
      "130.0 -58.0 False\n",
      "70.0 -60.0 False\n",
      "8.0 -62.0 False\n",
      "0.0 0.0 True\n"
     ]
    }
   ],
   "source": [
    "my_lander = LunarLander(altitude=1000)\n",
    "while not my_lander.destroyed:                                          # run while the lander is not destroyed\n",
    "    print(my_lander.altitude, my_lander.velocity, my_lander.destroyed)  # print an update\n",
    "    my_lander.tick()                                                    # advance time by 1 second\n",
    "print(my_lander.altitude, my_lander.velocity, my_lander.destroyed)      # print final (unfortunate) status"
   ]
  },
  {
   "cell_type": "markdown",
   "metadata": {},
   "source": [
    "It's not so easy to look at a table of number and understand what's going on... let's change tick() to return the altitude after each one-second time step, so we can look at a graph instead.\n",
    "\n",
    "Here is the code to create the return value:"
   ]
  },
  {
   "cell_type": "code",
   "execution_count": 9,
   "metadata": {},
   "outputs": [
    {
     "data": {
      "text/plain": [
       "998.0"
      ]
     },
     "execution_count": 9,
     "metadata": {},
     "output_type": "execute_result"
    }
   ],
   "source": [
    "class LunarLander:                   \n",
    "    \n",
    "    g = 2.0\n",
    "\n",
    "    def __init__(self, mass = 120.0, fuel = 10.0, altitude = 0.0, velocity = 0.0):\n",
    "        self.mass = mass     \n",
    "        self.fuel = fuel\n",
    "        self.altitude = altitude\n",
    "        self.velocity = velocity\n",
    "        self.destroyed = False\n",
    "        \n",
    "    def tick(self):\n",
    "        self.velocity -= LunarLander.g\n",
    "        self.altitude += self.velocity\n",
    "        if (self.altitude < 0.0):\n",
    "            self.altitude = 0.0\n",
    "            if abs(self.velocity) > 2.0:\n",
    "                self.destroyed = True\n",
    "            self.velocity = 0.0\n",
    "        return self.altitude               # return the value for altitude each time tick() is called\n",
    "    \n",
    "my_lander = LunarLander(altitude=1000)\n",
    "my_lander.tick()                           # when tick() gets called, the resulting altitude is returned"
   ]
  },
  {
   "cell_type": "markdown",
   "metadata": {},
   "source": [
    "Python makes **extensive** use of lists. To plot the lander's altitude, we will need to capture the values in a list.\n",
    "\n",
    "Here are some examples of lists in Python:"
   ]
  },
  {
   "cell_type": "code",
   "execution_count": 10,
   "metadata": {},
   "outputs": [
    {
     "name": "stdout",
     "output_type": "stream",
     "text": [
      "my_list [1, 2, 3, 4, 5]\n",
      "my_list slices [2, 3] [1, 2, 3, 4] [4, 5]\n",
      "py_list [0, 1, 4, 9, 16, 25, 36, 49, 64, 81, 100]\n"
     ]
    }
   ],
   "source": [
    "# declare a list\n",
    "my_list = [1,2,3,4,5]\n",
    "print('my_list', my_list)\n",
    "\n",
    "# slice the list into pieces\n",
    "print('my_list slices', my_list[1:3], my_list[:4], my_list[3:])\n",
    "\n",
    "# make a list using a Python list comprehension (a one-line list-building loop)\n",
    "py_list = [x**2 for x in range(0,11)]\n",
    "print('py_list', py_list)"
   ]
  },
  {
   "cell_type": "markdown",
   "metadata": {},
   "source": [
    "A **Python list comprehension** can access any function. Here is how you can capture the return values from tick() in a list (those values represent the lander's altitude):"
   ]
  },
  {
   "cell_type": "code",
   "execution_count": 11,
   "metadata": {},
   "outputs": [
    {
     "data": {
      "text/plain": [
       "[998.0,\n",
       " 994.0,\n",
       " 988.0,\n",
       " 980.0,\n",
       " 970.0,\n",
       " 958.0,\n",
       " 944.0,\n",
       " 928.0,\n",
       " 910.0,\n",
       " 890.0,\n",
       " 868.0,\n",
       " 844.0,\n",
       " 818.0,\n",
       " 790.0,\n",
       " 760.0,\n",
       " 728.0,\n",
       " 694.0,\n",
       " 658.0,\n",
       " 620.0,\n",
       " 580.0,\n",
       " 538.0,\n",
       " 494.0,\n",
       " 448.0,\n",
       " 400.0,\n",
       " 350.0,\n",
       " 298.0,\n",
       " 244.0,\n",
       " 188.0,\n",
       " 130.0,\n",
       " 70.0]"
      ]
     },
     "execution_count": 11,
     "metadata": {},
     "output_type": "execute_result"
    }
   ],
   "source": [
    "my_lander = LunarLander(altitude=1000)\n",
    "altitude = [my_lander.tick() for t in range(0,30)]\n",
    "altitude"
   ]
  },
  {
   "cell_type": "markdown",
   "metadata": {},
   "source": [
    "And here is how you can plot the results in a graph:"
   ]
  },
  {
   "cell_type": "code",
   "execution_count": 12,
   "metadata": {},
   "outputs": [
    {
     "data": {
      "text/plain": [
       "[<matplotlib.lines.Line2D at 0x7f33e8743fd0>]"
      ]
     },
     "execution_count": 12,
     "metadata": {},
     "output_type": "execute_result"
    },
    {
     "data": {
      "image/png": "[encoded data removed]",
      "text/plain": [
       "<matplotlib.figure.Figure at 0x7f3408f88550>"
      ]
     },
     "metadata": {},
     "output_type": "display_data"
    }
   ],
   "source": [
    "%matplotlib inline\n",
    "import matplotlib.pyplot as plt\n",
    "plt.plot(altitude,'o')"
   ]
  },
  {
   "cell_type": "markdown",
   "metadata": {},
   "source": [
    "## Exercises\n",
    "\n",
    "Recreate the graph on a planet where the acceleration due to gravity is a function of time. Specifically: gravity starts at -2.0 (ie, away from the planet's surface), and is reduced by 0.1 every second. If the lander starts at 1,000 meters, what is its (a) approximate maximum altitude and (b) time until impact?\n",
    "\n",
    "*Important safety tip: since LunarLander.g is a **class variable**, any changes will be persistent; you may need to either (a) set the initial value of g when you run the simulation or (b) re-load the LunarLander class before each simulation.*"
   ]
  },
  {
   "cell_type": "code",
   "execution_count": 13,
   "metadata": {},
   "outputs": [],
   "source": [
    "# here is a starting point... this is the lunar lander, with gravity reversed:\n",
    "\n",
    "class LunarLander:                   \n",
    "    \n",
    "    g = -2.0     # hey! I am falling up!\n",
    "\n",
    "    def __init__(self, mass = 120.0, fuel = 10.0, altitude = 0.0, velocity = 0.0):\n",
    "        self.mass = mass     \n",
    "        self.fuel = fuel\n",
    "        self.altitude = altitude\n",
    "        self.velocity = velocity\n",
    "        self.destroyed = False\n",
    "        \n",
    "    def tick(self):\n",
    "        self.velocity -= LunarLander.g\n",
    "        self.altitude += self.velocity\n",
    "        if (self.altitude < 0.0):\n",
    "            self.altitude = 0.0\n",
    "            if abs(self.velocity) > 2.0:\n",
    "                self.destroyed = True\n",
    "            self.velocity = 0.0\n",
    "        return self.altitude"
   ]
  },
  {
   "cell_type": "code",
   "execution_count": null,
   "metadata": {},
   "outputs": [],
   "source": []
  }
 ],
 "metadata": {
  "kernelspec": {
   "display_name": "Python 3",
   "language": "python",
   "name": "python3"
  },
  "language_info": {
   "codemirror_mode": {
    "name": "ipython",
    "version": 3
   },
   "file_extension": ".py",
   "mimetype": "text/x-python",
   "name": "python",
   "nbconvert_exporter": "python",
   "pygments_lexer": "ipython3",
   "version": "3.6.4"
  }
 },
 "nbformat": 4,
 "nbformat_minor": 2
}
