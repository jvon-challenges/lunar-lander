{
 "cells": [
  {
   "cell_type": "markdown",
   "metadata": {},
   "source": [
    "# Lunar Lander: Python + Math = Simulation"
   ]
  },
  {
   "cell_type": "markdown",
   "metadata": {},
   "source": [
    "## 1. Constructing the lander\n",
    "\n",
    "Let's build a lunar lander that has limited fuel, and try to land on the moon with crashing."
   ]
  },
  {
   "cell_type": "markdown",
   "metadata": {},
   "source": [
    "For starters, define a **python class** for a lunar lander that includes **instance variables** for mass and fuel:"
   ]
  },
  {
   "cell_type": "code",
   "execution_count": 53,
   "metadata": {},
   "outputs": [],
   "source": [
    "class LunarLander:                   # the class name is LunarLander\n",
    "    def __init__(self, mass, fuel):  # __init__ gets called whenever we create a new instance of a class\n",
    "        self.mass = mass             # ...the 'self' keyword means 'this instance of this class'\n",
    "        self.fuel = fuel             # ...python requires 'self' to distinguish instance variables"
   ]
  },
  {
   "cell_type": "markdown",
   "metadata": {},
   "source": [
    "So far, a lunar lander doesn't do anything, but we can make one if we want to:"
   ]
  },
  {
   "cell_type": "code",
   "execution_count": 58,
   "metadata": {},
   "outputs": [
    {
     "name": "stdout",
     "output_type": "stream",
     "text": [
      "120 10\n"
     ]
    }
   ],
   "source": [
    "# here is a useless lunar lander. it does nothing.\n",
    "\n",
    "useless_lander = LunarLander(120,10) # creating an instance of LunarLander requires mass & fuel\n",
    "print(useless_lander.mass, useless_lander.fuel)"
   ]
  },
  {
   "cell_type": "markdown",
   "metadata": {},
   "source": [
    "Let's add **instance variables** to represent the lander's velocity and altitude, and a **class variable** for acceleration due to gravity:"
   ]
  },
  {
   "cell_type": "code",
   "execution_count": 55,
   "metadata": {},
   "outputs": [],
   "source": [
    "class LunarLander:                   \n",
    "    \n",
    "    g = 2.0                          # the class variable 'g' is shared among all instances\n",
    "    \n",
    "    def __init__(self, mass, fuel):\n",
    "        self.mass = mass          \n",
    "        self.fuel = fuel     \n",
    "        self.altitude = 0.0          # altitude is specific to an instance, and has an initial value \n",
    "        self.velocity = 0.0          # ...and so does velocity"
   ]
  },
  {
   "cell_type": "markdown",
   "metadata": {},
   "source": [
    "Here is an instance of a new & improved lunar lander:"
   ]
  },
  {
   "cell_type": "code",
   "execution_count": 59,
   "metadata": {},
   "outputs": [
    {
     "name": "stdout",
     "output_type": "stream",
     "text": [
      "150 20 0.0 0.0\n",
      "2.0\n"
     ]
    }
   ],
   "source": [
    "# this lunar lander shows the difference between class and instance variables.\n",
    "\n",
    "new_lander = LunarLander(150,20)\n",
    "print (new_lander.mass, new_lander.fuel, new_lander.altitude, new_lander.velocity) # instance variables\n",
    "print (LunarLander.g) # class variable... shared among all instances"
   ]
  },
  {
   "cell_type": "markdown",
   "metadata": {},
   "source": [
    "Any function can provide **default values**, which are used whenever a parameter is not specified:"
   ]
  },
  {
   "cell_type": "code",
   "execution_count": 61,
   "metadata": {},
   "outputs": [],
   "source": [
    "class LunarLander:                   \n",
    "    \n",
    "    g = 2.0\n",
    "\n",
    "    # default values will be used whenever a value is not specified...\n",
    "    def __init__(self, mass = 120.0, fuel = 10.0, altitude = 0.0, velocity = 0.0):\n",
    "        self.mass = mass     \n",
    "        self.fuel = fuel\n",
    "        self.altitude = altitude\n",
    "        self.velocity = velocity"
   ]
  },
  {
   "cell_type": "markdown",
   "metadata": {},
   "source": [
    "Now we can make lots of landers:"
   ]
  },
  {
   "cell_type": "code",
   "execution_count": 66,
   "metadata": {},
   "outputs": [
    {
     "name": "stdout",
     "output_type": "stream",
     "text": [
      "heavy 200 10.0 0.0 0.0\n",
      "high 120.0 10.0 1000 0.0\n",
      "goofy 1 2 3 4\n",
      "test 1 2 0.0 999\n"
     ]
    }
   ],
   "source": [
    "heavy_lander = LunarLander(mass=200)          # specifies only mass; other parameters equal default values\n",
    "high_lander = LunarLander(altitude=1000)      # specifies only altitude...\n",
    "goofy_lander = LunarLander(1,2,3,4)           # unlabeled values are applied in order...\n",
    "test_lander = LunarLander(1,2,velocity=999)   # you can mix ordered & labeled values\n",
    "\n",
    "print ('heavy', heavy_lander.mass, heavy_lander.fuel, heavy_lander.altitude, heavy_lander.velocity)\n",
    "print ('high', high_lander.mass, high_lander.fuel, high_lander.altitude, high_lander.velocity)\n",
    "print ('goofy', goofy_lander.mass, goofy_lander.fuel, goofy_lander.altitude, goofy_lander.velocity)\n",
    "print ('test', test_lander.mass, test_lander.fuel, test_lander.altitude, test_lander.velocity)"
   ]
  },
  {
   "cell_type": "code",
   "execution_count": null,
   "metadata": {},
   "outputs": [],
   "source": []
  }
 ],
 "metadata": {
  "kernelspec": {
   "display_name": "Python 3",
   "language": "python",
   "name": "python3"
  },
  "language_info": {
   "codemirror_mode": {
    "name": "ipython",
    "version": 3
   },
   "file_extension": ".py",
   "mimetype": "text/x-python",
   "name": "python",
   "nbconvert_exporter": "python",
   "pygments_lexer": "ipython3",
   "version": "3.6.4"
  }
 },
 "nbformat": 4,
 "nbformat_minor": 2
}
